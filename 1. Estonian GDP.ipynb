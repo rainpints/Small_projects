{
 "cells": [
  {
   "cell_type": "code",
   "execution_count": 1,
   "metadata": {},
   "outputs": [],
   "source": [
    "import numpy as np\n",
    "import pandas as pd\n",
    "import requests\n",
    "import matplotlib.pyplot as plt\n",
    "from datetime import datetime"
   ]
  },
  {
   "cell_type": "code",
   "execution_count": 2,
   "metadata": {},
   "outputs": [],
   "source": [
    "# Download data\n",
    "\n",
    "current_year = datetime.now().year\n",
    "r = requests.get(f'http://andmebaas.stat.ee/sdmx-json/data/RAA0012/I+II+III+IV.1.1/all?startTime=1995&endTime={current_year}&dimensionAtObservation=allDimensions')\n",
    "data = r.json()"
   ]
  },
  {
   "cell_type": "code",
   "execution_count": 3,
   "metadata": {},
   "outputs": [],
   "source": [
    "# Extract data from json\n",
    "\n",
    "Q1 = []\n",
    "Q2 = []\n",
    "Q3 = []\n",
    "Q4 = []\n",
    "\n",
    "for k, v in data['dataSets'][0]['observations'].items():\n",
    "    if k[0] == '0':\n",
    "        Q1.append(v[0])\n",
    "    elif k[0] == '1':\n",
    "        Q2.append(v[0])\n",
    "    elif k[0] == '2':\n",
    "        Q3.append(v[0])\n",
    "    elif k[0] == '3':\n",
    "        Q4.append(v[0])\n",
    "\n",
    "# If data for some quarters is not available for the current year then add missing values to the dataframe\n",
    "\n",
    "for q in [Q2, Q3, Q4]:\n",
    "    if len(Q1) > len(q):\n",
    "        q.append(np.nan)\n",
    "\n",
    "years = []\n",
    "for y in data['structure']['dimensions']['observation'][3]['values']:\n",
    "    years.append(int(y['id']))"
   ]
  },
  {
   "cell_type": "code",
   "execution_count": 4,
   "metadata": {
    "scrolled": true
   },
   "outputs": [
    {
     "data": {
      "text/html": [
       "<div>\n",
       "<style scoped>\n",
       "    .dataframe tbody tr th:only-of-type {\n",
       "        vertical-align: middle;\n",
       "    }\n",
       "\n",
       "    .dataframe tbody tr th {\n",
       "        vertical-align: top;\n",
       "    }\n",
       "\n",
       "    .dataframe thead th {\n",
       "        text-align: right;\n",
       "    }\n",
       "</style>\n",
       "<table border=\"1\" class=\"dataframe\">\n",
       "  <thead>\n",
       "    <tr style=\"text-align: right;\">\n",
       "      <th></th>\n",
       "      <th>Q1</th>\n",
       "      <th>Q2</th>\n",
       "      <th>Q3</th>\n",
       "      <th>Q4</th>\n",
       "    </tr>\n",
       "  </thead>\n",
       "  <tbody>\n",
       "    <tr>\n",
       "      <th>2019</th>\n",
       "      <td>6388</td>\n",
       "      <td>6949</td>\n",
       "      <td>7029</td>\n",
       "      <td>7367</td>\n",
       "    </tr>\n",
       "    <tr>\n",
       "      <th>2020</th>\n",
       "      <td>6383</td>\n",
       "      <td>6336</td>\n",
       "      <td>6829</td>\n",
       "      <td>7287</td>\n",
       "    </tr>\n",
       "    <tr>\n",
       "      <th>2021</th>\n",
       "      <td>6706</td>\n",
       "      <td>7413</td>\n",
       "      <td>NaN</td>\n",
       "      <td>NaN</td>\n",
       "    </tr>\n",
       "  </tbody>\n",
       "</table>\n",
       "</div>"
      ],
      "text/plain": [
       "        Q1    Q2    Q3    Q4\n",
       "2019  6388  6949  7029  7367\n",
       "2020  6383  6336  6829  7287\n",
       "2021  6706  7413   NaN   NaN"
      ]
     },
     "execution_count": 4,
     "metadata": {},
     "output_type": "execute_result"
    }
   ],
   "source": [
    "# Create DataFrame\n",
    "\n",
    "gdp = pd.DataFrame(data={'Q1':Q1, 'Q2':Q2,'Q3':Q3, 'Q4':Q4},\n",
    "                   index=years)\n",
    "\n",
    "pd.set_option('display.precision', 0)\n",
    "gdp.tail(3)"
   ]
  },
  {
   "cell_type": "code",
   "execution_count": 5,
   "metadata": {},
   "outputs": [
    {
     "data": {
      "image/png": "[encoded data removed]",
      "text/plain": [
       "<Figure size 864x432 with 1 Axes>"
      ]
     },
     "metadata": {
      "needs_background": "light"
     },
     "output_type": "display_data"
    }
   ],
   "source": [
    "# Visualize data\n",
    "\n",
    "_ = gdp.plot(kind='bar', legend=True, stacked=True, \n",
    "             color=['darkblue', 'mediumblue', 'dodgerblue', 'deepskyblue'],\n",
    "             width=0.6, figsize=(12, 6))\n",
    "_ = plt.grid(axis='y', linewidth=0.7, alpha=0.5)\n",
    "_ = plt.title('Estonian GDP in millions of euros', loc='left', fontsize=12)"
   ]
  }
 ],
 "metadata": {
  "kernelspec": {
   "display_name": "Python 3",
   "language": "python",
   "name": "python3"
  },
  "language_info": {
   "codemirror_mode": {
    "name": "ipython",
    "version": 3
   },
   "file_extension": ".py",
   "mimetype": "text/x-python",
   "name": "python",
   "nbconvert_exporter": "python",
   "pygments_lexer": "ipython3",
   "version": "3.8.8"
  }
 },
 "nbformat": 4,
 "nbformat_minor": 4
}
